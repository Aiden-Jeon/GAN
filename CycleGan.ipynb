{
 "cells": [
  {
   "cell_type": "code",
   "execution_count": 1,
   "metadata": {},
   "outputs": [],
   "source": [
    "# Pix2Pix.py\n",
    "import torch\n",
    "import torch.nn as nn\n",
    "import torch.optim as optim\n",
    "from torch.autograd import Variable\n",
    "import torchvision.transforms as T\n",
    "\n",
    "import matplotlib.image as mpimg\n",
    "import matplotlib.pyplot as plt\n",
    "\n",
    "from math import sqrt, log2\n",
    "import time"
   ]
  },
  {
   "cell_type": "markdown",
   "metadata": {},
   "source": [
    "# Data\n",
    "- Url  \n",
    "https://people.eecs.berkeley.edu/~taesung_park/CycleGAN/datasets/"
   ]
  },
  {
   "cell_type": "code",
   "execution_count": 2,
   "metadata": {},
   "outputs": [],
   "source": [
    "class ResnetBlock(nn.Module):\n",
    "    def __init__(self, channel, kernel, stride, reflect_padding):\n",
    "        super(ResnetBlock, self).__init__()\n",
    "        self.features = nn.Sequential(\n",
    "            nn.ReflectionPad2d(reflect_padding),\n",
    "            nn.Conv2d(channel, channel, kernel, stride, 0),\n",
    "            nn.InstanceNorm2d(channel),\n",
    "            nn.ReflectionPad2d(reflect_padding),\n",
    "            nn.Conv2d(channel, channel, kernel, stride, 0),\n",
    "            nn.InstanceNorm2d(channel))\n",
    "    \n",
    "    def forward(self, x):\n",
    "        x_res = self.features(x)\n",
    "        return x + x_res"
   ]
  },
  {
   "cell_type": "code",
   "execution_count": 3,
   "metadata": {},
   "outputs": [],
   "source": [
    "def resnet_init_weight(m, mean, std):\n",
    "    classname = m.__class__.__name__\n",
    "    if classname.find('Conv') != -1:\n",
    "        m.weight.data.normal_(mean, std)"
   ]
  },
  {
   "cell_type": "code",
   "execution_count": 4,
   "metadata": {},
   "outputs": [],
   "source": [
    "class Generator(nn.Module):\n",
    "    def __init__(self, input_nc, output_nc, ngf, nb, dtype):\n",
    "        super(Generator, self).__init__()\n",
    "        self.input_nc = input_nc\n",
    "        self.output_nc = output_nc\n",
    "        self.ngf = ngf\n",
    "        self.nb = nb\n",
    "        \n",
    "        self.encoder = nn.Sequential(\n",
    "            # Conv 1\n",
    "            nn.ReflectionPad2d(3),\n",
    "            nn.Conv2d(input_nc, ngf, 7, 1, 0),\n",
    "            nn.InstanceNorm2d(ngf),\n",
    "            nn.ReLU(True),\n",
    "            # Conv 2\n",
    "            nn.Conv2d(ngf, ngf*2, 3, 2, 1),\n",
    "            nn.InstanceNorm2d(ngf*2),\n",
    "            nn.ReLU(True),\n",
    "            # Conv 3\n",
    "            nn.Conv2d(ngf*2, ngf*4, 3, 2, 1),\n",
    "            nn.InstanceNorm2d(ngf*4),\n",
    "            nn.ReLU(True)).type(dtype)\n",
    "\n",
    "        # 256x256 -> 9 / 128x128 -> 6\n",
    "        self.resnet_blocks = []\n",
    "        for i in range(nb):\n",
    "            self.resnet_blocks += [ResnetBlock(ngf * 4, 3, 1, 1)]\n",
    "            self.resnet_blocks[i].apply(lambda x :resnet_init_weight(x, 0, 0.2))\n",
    "\n",
    "        self.resnet_blocks = nn.Sequential(*self.resnet_blocks).type(dtype)\n",
    "    \n",
    "        self.decocder = nn.Sequential(\n",
    "            # Deconv1\n",
    "            nn.ConvTranspose2d(ngf*4, ngf*2, 3, 2, 1, 1),\n",
    "            nn.InstanceNorm2d(ngf*2),\n",
    "            nn.ReLU(True),\n",
    "            # Deconv2\n",
    "            nn.ConvTranspose2d(ngf*2, ngf, 3, 2, 1, 1),\n",
    "            nn.InstanceNorm2d(ngf),\n",
    "            nn.ReLU(True),\n",
    "            nn.ReflectionPad2d(3),\n",
    "            nn.Conv2d(ngf, output_nc, 7, 1, 0),\n",
    "            nn.Tanh()).type(dtype)\n",
    "\n",
    "    def forward(self, x):\n",
    "        x = self.encoder(x)\n",
    "        x = self.resnet_blocks(x)\n",
    "        x = self.decocder(x)\n",
    "        return x"
   ]
  },
  {
   "cell_type": "code",
   "execution_count": 5,
   "metadata": {},
   "outputs": [],
   "source": [
    "class Discriminator(nn.Module):\n",
    "    def __init__(self, input_nc, output_nc, ndf, dtype):\n",
    "        super(Discriminator, self).__init__()\n",
    "        self.features = nn.Sequential(\n",
    "            # Conv1\n",
    "            nn.Conv2d(input_nc, ndf, 4, 2, 1),\n",
    "            nn.LeakyReLU(0.2, True),\n",
    "            # Conv2\n",
    "            nn.Conv2d(ndf, ndf*2, 4, 2, 1),\n",
    "            nn.InstanceNorm2d(ndf*2),\n",
    "            nn.LeakyReLU(0.2, True),\n",
    "            # Conv3\n",
    "            nn.Conv2d(ndf*2, ndf*4, 4, 2, 1),\n",
    "            nn.InstanceNorm2d(ndf*4),\n",
    "            nn.LeakyReLU(0.2, True),\n",
    "            # Conv4\n",
    "            nn.Conv2d(ndf*4, ndf*8, 4, 1, 1),\n",
    "            nn.InstanceNorm2d(ndf*8),\n",
    "            nn.LeakyReLU(0.2, True),\n",
    "            # Conv5\n",
    "            nn.Conv2d(ndf*8, output_nc, 4, 1, 1)).type(dtype)\n",
    "        \n",
    "    def forward(self, x):\n",
    "        return self.features(x)"
   ]
  },
  {
   "cell_type": "code",
   "execution_count": 6,
   "metadata": {},
   "outputs": [],
   "source": [
    "dtype = torch.cuda.FloatTensor"
   ]
  },
  {
   "cell_type": "code",
   "execution_count": 88,
   "metadata": {},
   "outputs": [],
   "source": [
    "G_A = Generator(3, 3, 32, 6, dtype)\n",
    "D_A = Discriminator(3, 1, 64, dtype)"
   ]
  },
  {
   "cell_type": "code",
   "execution_count": 8,
   "metadata": {},
   "outputs": [],
   "source": [
    "import torch.nn.functional as F\n",
    "import os\n",
    "from torch.utils.data import Dataset, DataLoader"
   ]
  },
  {
   "cell_type": "code",
   "execution_count": null,
   "metadata": {},
   "outputs": [],
   "source": [
    "DataLoader()"
   ]
  },
  {
   "cell_type": "code",
   "execution_count": 9,
   "metadata": {},
   "outputs": [],
   "source": [
    "class CycleDataset(Dataset):\n",
    "    def __init__(self, file_dir, size):\n",
    "        self.file_dir = file_dir\n",
    "        self.file_list = os.listdir(file_dir)\n",
    "        self.size = size\n",
    "        self.transform = T.Compose([\n",
    "            T.ToTensor(),\n",
    "            T.Normalize((0.5, 0.5, 0.5), (0.5, 0.5, 0.5))\n",
    "        ])\n",
    "\n",
    "    def resize2d(self, img):\n",
    "        with torch.no_grad():\n",
    "            img = (F.adaptive_avg_pool2d(Variable(img), (self.size, self.size))).data\n",
    "        return img\n",
    "\n",
    "    def __getitem__(self, index):\n",
    "        x = mpimg.imread(self.file_dir + self.file_list[index])\n",
    "        y = x[:,256:,:]\n",
    "        x = x[:,:256,:]\n",
    "        x = self.transform(x)\n",
    "        y = self.transform(y)\n",
    "        if self.size != 256:\n",
    "            x = self.resize2d(x)\n",
    "            y = self.resize2d(y)\n",
    "        return x, y\n",
    " \n",
    "    def __len__(self):\n",
    "        return len(self.file_list)"
   ]
  },
  {
   "cell_type": "code",
   "execution_count": 11,
   "metadata": {},
   "outputs": [],
   "source": [
    "a_dataset = CycleDataset('data/horse2zebra/trainA/', 128)\n",
    "b_dataset = CycleDataset('data/horse2zebra/trainA/', 128)"
   ]
  },
  {
   "cell_type": "code",
   "execution_count": 12,
   "metadata": {},
   "outputs": [],
   "source": [
    "a_dataloader = DataLoader(a_dataset, shuffle=True)\n",
    "b_dataloader = DataLoader(b_dataset, shuffle=True)"
   ]
  },
  {
   "cell_type": "code",
   "execution_count": 14,
   "metadata": {},
   "outputs": [],
   "source": [
    "input_ngc = 3\n",
    "output_ngc = 3\n",
    "input_ndc = 3\n",
    "output_ndc = 1\n",
    "ngf = 32\n",
    "ndf = 64\n",
    "nb = 6 #128x128 -> 6 # 256x256 -> 9\n",
    "\n",
    "G_A = Generator(input_ngc, output_ngc, ngf, nb, dtype)\n",
    "G_B = Generator(input_ngc, output_ngc, ngf, nb, dtype)\n",
    "D_A = Discriminator(input_ndc, output_ndc, ndf, dtype)\n",
    "D_B = Discriminator(input_ndc, output_ndc, ndf, dtype)"
   ]
  },
  {
   "cell_type": "code",
   "execution_count": 15,
   "metadata": {},
   "outputs": [],
   "source": [
    "import itertools"
   ]
  },
  {
   "cell_type": "code",
   "execution_count": 16,
   "metadata": {},
   "outputs": [],
   "source": [
    "BCE_loss = nn.BCELoss().type(dtype)\n",
    "MSE_loss = nn.MSELoss().type(dtype)\n",
    "L1_loss = nn.L1Loss().type(dtype)\n",
    "\n",
    "# Adam optimizer\n",
    "G_optimizer = optim.Adam(itertools.chain(G_A.parameters(), G_B.parameters()), lr=0.0002, betas=(0.5, 0.999))\n",
    "D_A_optimizer = optim.Adam(D_A.parameters(), lr=0.0002, betas=(0.5, 0.999))\n",
    "D_B_optimizer = optim.Adam(D_B.parameters(), lr=0.0002, betas=(0.5, 0.999))"
   ]
  },
  {
   "cell_type": "code",
   "execution_count": null,
   "metadata": {},
   "outputs": [],
   "source": [
    "class ImageBuffer"
   ]
  },
  {
   "cell_type": "code",
   "execution_count": null,
   "metadata": {},
   "outputs": [],
   "source": [
    "class image_store():\n",
    "    def __init__(self, store_size=50):\n",
    "        self.store_size = store_size\n",
    "        self.num_img = 0\n",
    "        self.images = []\n",
    "\n",
    "    def query(self, image):\n",
    "        select_imgs = []\n",
    "        for i in range(image.size()[0]):\n",
    "            if self.num_img < self.store_size:\n",
    "                self.images.append(image)\n",
    "                select_imgs.append(image)\n",
    "                self.num_img += 1\n",
    "            else:\n",
    "                prob = np.random.uniform(0, 1)\n",
    "                if prob > 0.5:\n",
    "                    ind = np.random.randint(0, self.store_size - 1)\n",
    "                    select_imgs.append(self.images[ind])\n",
    "                    self.images[ind] = image\n",
    "                else:\n",
    "                    select_imgs.append(image)\n",
    "\n",
    "        return Variable(torch.cat(select_imgs, 0))\n",
    "\n",
    "class ImagePool():\n",
    "    def __init__(self, pool_size):\n",
    "        self.pool_size = pool_size\n",
    "        if self.pool_size > 0:\n",
    "            self.num_imgs = 0\n",
    "            self.images = []\n",
    "\n",
    "    def query(self, images):\n",
    "        if self.pool_size == 0:\n",
    "            return images\n",
    "        return_images = []\n",
    "        for image in images.data:\n",
    "            image = torch.unsqueeze(image, 0)\n",
    "            if self.num_imgs < self.pool_size:\n",
    "                self.num_imgs = self.num_imgs + 1\n",
    "                self.images.append(image)\n",
    "                return_images.append(image)\n",
    "            else:\n",
    "                p = random.uniform(0, 1)\n",
    "                if p > 0.5:\n",
    "                    random_id = random.randint(0, self.pool_size-1)\n",
    "                    tmp = self.images[random_id].clone()\n",
    "                    self.images[random_id] = image\n",
    "                    return_images.append(tmp)\n",
    "                else:\n",
    "                    return_images.append(image)\n",
    "        return_images = Variable(torch.cat(return_images, 0))\n",
    "        return return_images"
   ]
  }
 ],
 "metadata": {
  "kernelspec": {
   "display_name": "Python 3",
   "language": "python",
   "name": "python3"
  },
  "language_info": {
   "codemirror_mode": {
    "name": "ipython",
    "version": 3
   },
   "file_extension": ".py",
   "mimetype": "text/x-python",
   "name": "python",
   "nbconvert_exporter": "python",
   "pygments_lexer": "ipython3",
   "version": "3.6.8"
  }
 },
 "nbformat": 4,
 "nbformat_minor": 2
}
